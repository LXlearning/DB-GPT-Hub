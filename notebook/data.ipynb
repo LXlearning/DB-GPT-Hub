{
 "cells": [
  {
   "cell_type": "code",
   "execution_count": 7,
   "metadata": {},
   "outputs": [],
   "source": [
    "import pandas as pd\n",
    "import json\n",
    "\n",
    "def read_multiline_json(file_path):\n",
    "    json_data_list = []\n",
    "\n",
    "    with open(file_path, 'r', encoding='utf-8') as file:\n",
    "        lines = file.readlines()\n",
    "\n",
    "    for line in lines:\n",
    "        if line.strip():\n",
    "            json_data = json.loads(line)\n",
    "            json_data_list.append(json_data)\n",
    "\n",
    "    return json_data_list\n",
    "\n",
    "\n",
    "def load_json_file(path):\n",
    "    with open(path, 'r', encoding='utf-8') as f:\n",
    "        print(f\"load json file from {path}\")\n",
    "        return json.load(f)"
   ]
  },
  {
   "cell_type": "code",
   "execution_count": 16,
   "metadata": {},
   "outputs": [
    {
     "name": "stdout",
     "output_type": "stream",
     "text": [
      "load json file from ../dbgpt_hub/data/text2sql_Cspider_train_one_shot.json\n"
     ]
    },
    {
     "data": {
      "text/plain": [
       "8659"
      ]
     },
     "execution_count": 16,
     "metadata": {},
     "output_type": "execute_result"
    }
   ],
   "source": [
    "data = load_json_file('../dbgpt_hub/data/text2sql_Cspider_train_one_shot.json')\n",
    "df = pd.DataFrame(data)\n",
    "len(data)"
   ]
  },
  {
   "cell_type": "code",
   "execution_count": 15,
   "metadata": {},
   "outputs": [
    {
     "name": "stdout",
     "output_type": "stream",
     "text": [
      "-------------------- instruction --------------------\n",
      "我希望你充当示例数据库的SQL终端。你只需要返回 SQL 命令给我。首先，我会向你展示一些指令及其正确的 SQL 响应示例。然后，我会给你一个新指令，你需要编写一个适当完成请求的 SQL 响应。\n",
      "### 示例1 Instruction:\n",
      "该数据库包含名为 employee、salary 和 position 的表。表 employee 包含包含的数据列如下:\n",
      "employee_id [员工ID]\n",
      "name [姓名]\n",
      "age [年龄]\n",
      "position_id [职位ID]\n",
      "employee_id 是主键。\n",
      "表 salary 包含包含的数据列如下:\n",
      "employee_id [员工ID]\n",
      "amount [金额]\n",
      "date [日期]\n",
      "employee_id 是主键。\n",
      "表 position 包含包含的数据列如下: \n",
      "position_id [职位ID]\n",
      "title [标题]\n",
      "department [部门]\n",
      "position_id 是主键。\n",
      "salary 表中的 employee_id 是 employee 表中 employee_id 的外键。\n",
      "employee 表中的 position_id 是 position 表中 position_id 的外键。\n",
      "### 示例1 Input:\n",
      "列出'Engineering'部门员工的姓名和年龄。\n",
      "\n",
      "### 示例1 Response:\n",
      "SELECT employee.name, employee.age FROM employee JOIN position ON employee.position_id = position.position_id WHERE position.department = 'Engineering';\n",
      "\n",
      "###新指令：\n",
      "farm 包含数据表 city, farm, farm_competition, competition_record。表 city 包含的数据列如下: \n",
      "City_ID [城市ID]\n",
      "Official_Name [官方名称]\n",
      "Status [状态]\n",
      "Area_km_2 [面积（平方公里）]\n",
      "Population [人口]\n",
      "Census_Ranking [人口普查排名]\n",
      "City_ID 是主键。\n",
      "表 farm 包含的数据列如下: \n",
      "Farm_ID [农场ID]\n",
      "Year [年份]\n",
      "Total_Horses [总马匹数]\n",
      "Working_Horses [工作马匹数]\n",
      "Total_Cattle [牛总数]\n",
      "Oxen [公牛]\n",
      "Bulls [公牛犊]\n",
      "Cows [母牛]\n",
      "Pigs [猪]\n",
      "Sheep_and_Goats [羊和山羊]\n",
      "Farm_ID 是主键。\n",
      "表 farm_competition 包含的数据列如下: \n",
      "Competition_ID [比赛ID]\n",
      "Year [年份]\n",
      "Theme [主题]\n",
      "Host_city_ID [主办城市ID]\n",
      "Hosts [主办方]\n",
      "Competition_ID 是主键。\n",
      "表 competition_record 包含的数据列如下: \n",
      "Competition_ID [比赛ID]\n",
      "Farm_ID [农场ID]\n",
      "Rank [排名]\n",
      "Competition_ID 是主键。\n",
      "表 farm_competition中的 Host_city_ID是表 city 中City_ID 的外键。\n",
      "表 competition_record中的 Farm_ID是表 farm 中Farm_ID 的外键。\n",
      "表 competition_record中的 Competition_ID是表 farm_competition 中Competition_ID 的外键。\n",
      "\n",
      "\n",
      "-------------------- input --------------------\n",
      "###Input:\n",
      "什么主持人所主持比赛的主题不是“外星人”？\n",
      "\n",
      "###Response:\n",
      "-------------------- output --------------------\n",
      "SELECT Hosts FROM farm_competition WHERE Theme !=  '外星人'\n"
     ]
    }
   ],
   "source": [
    "i = 20\n",
    "print('-'*20, 'instruction', '-'*20)\n",
    "print(data[i]['instruction'])\n",
    "\n",
    "print('-'*20, 'input', '-'*20)\n",
    "print(data[i]['input'])\n",
    "\n",
    "print('-'*20, 'output', '-'*20)\n",
    "print(data[i]['output'])"
   ]
  },
  {
   "cell_type": "code",
   "execution_count": 22,
   "metadata": {},
   "outputs": [
    {
     "data": {
      "text/plain": [
       "(1977.5371289987297, 4738.0)"
      ]
     },
     "execution_count": 22,
     "metadata": {},
     "output_type": "execute_result"
    }
   ],
   "source": [
    "df['len_inst'] = df['instruction'].apply(len)\n",
    "df['len_inst'].mean(),df['len_inst'].max()/1.5"
   ]
  },
  {
   "cell_type": "code",
   "execution_count": 20,
   "metadata": {},
   "outputs": [],
   "source": [
    "dataset2 = []\n",
    "# for i, qa in enumerate(data_dict):\n",
    "#     # temp = {'instruction': qa['input'], 'input': qa['input'], 'output': qa['input']}\n",
    "#     dataset2.append(temp)\n",
    "\n",
    "save_file = f'../dbgpt_hub/data/text2sql_Cspider_train_one_shot_cn_glm3ft.json'\n",
    "with open(save_file, 'w') as file:\n",
    "    file.write(\"\\n\".join([json.dumps(i, ensure_ascii=False) for i in data]))"
   ]
  },
  {
   "cell_type": "code",
   "execution_count": null,
   "metadata": {},
   "outputs": [],
   "source": []
  }
 ],
 "metadata": {
  "kernelspec": {
   "display_name": "lx",
   "language": "python",
   "name": "python3"
  },
  "language_info": {
   "codemirror_mode": {
    "name": "ipython",
    "version": 3
   },
   "file_extension": ".py",
   "mimetype": "text/x-python",
   "name": "python",
   "nbconvert_exporter": "python",
   "pygments_lexer": "ipython3",
   "version": "3.9.12"
  }
 },
 "nbformat": 4,
 "nbformat_minor": 2
}
