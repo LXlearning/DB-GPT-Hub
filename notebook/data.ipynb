{
 "cells": [
  {
   "cell_type": "code",
   "execution_count": 5,
   "metadata": {},
   "outputs": [],
   "source": [
    "import pandas as pd\n",
    "import json\n",
    "\n",
    "def read_multiline_json(file_path):\n",
    "    json_data_list = []\n",
    "\n",
    "    with open(file_path, 'r', encoding='utf-8') as file:\n",
    "        lines = file.readlines()\n",
    "\n",
    "    for line in lines:\n",
    "        if line.strip():\n",
    "            json_data = json.loads(line)\n",
    "            json_data_list.append(json_data)\n",
    "\n",
    "    return json_data_list\n",
    "\n",
    "\n",
    "def load_json_file(path):\n",
    "    with open(path, 'r', encoding='utf-8') as f:\n",
    "        print(f\"load json file from {path}\")\n",
    "        return json.load(f)"
   ]
  },
  {
   "cell_type": "code",
   "execution_count": 8,
   "metadata": {},
   "outputs": [
    {
     "name": "stdout",
     "output_type": "stream",
     "text": [
      "load json file from ../dbgpt_hub/data/text2sql_Cspider_train_one_shot.json\n"
     ]
    },
    {
     "data": {
      "text/plain": [
       "8659"
      ]
     },
     "execution_count": 8,
     "metadata": {},
     "output_type": "execute_result"
    }
   ],
   "source": [
    "data = load_json_file('../dbgpt_hub/data/text2sql_Cspider_train_one_shot.json')\n",
    "len(data)"
   ]
  },
  {
   "cell_type": "code",
   "execution_count": 10,
   "metadata": {},
   "outputs": [],
   "source": [
    "dataset2 = []\n",
    "# for i, qa in enumerate(data_dict):\n",
    "#     # temp = {'instruction': qa['input'], 'input': qa['input'], 'output': qa['input']}\n",
    "#     dataset2.append(temp)\n",
    "\n",
    "save_file = f'../dbgpt_hub/data/text2sql_Cspider_train_one_shot_glm3ft.json'\n",
    "with open(save_file, 'w') as file:\n",
    "    file.write(\"\\n\".join([json.dumps(i, ensure_ascii=False) for i in data]))"
   ]
  },
  {
   "cell_type": "code",
   "execution_count": null,
   "metadata": {},
   "outputs": [],
   "source": []
  }
 ],
 "metadata": {
  "kernelspec": {
   "display_name": "lx",
   "language": "python",
   "name": "python3"
  },
  "language_info": {
   "codemirror_mode": {
    "name": "ipython",
    "version": 3
   },
   "file_extension": ".py",
   "mimetype": "text/x-python",
   "name": "python",
   "nbconvert_exporter": "python",
   "pygments_lexer": "ipython3",
   "version": "3.9.12"
  }
 },
 "nbformat": 4,
 "nbformat_minor": 2
}
