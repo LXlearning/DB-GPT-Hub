{
 "cells": [
  {
   "cell_type": "code",
   "execution_count": 2,
   "metadata": {},
   "outputs": [],
   "source": [
    "import json\n",
    "import pandas as pd\n",
    "import sys\n",
    "%load_ext autoreload\n",
    "%autoreload 2\n",
    "from llm_openai import safe_call_llm\n",
    "from tqdm import tqdm\n",
    "def read_multiline_json(file_path):\n",
    "    json_data_list = []\n",
    "\n",
    "    with open(file_path, 'r', encoding='utf-8') as file:\n",
    "        lines = file.readlines()\n",
    "\n",
    "    for line in lines:\n",
    "        if line.strip():\n",
    "            json_data = json.loads(line)\n",
    "            json_data_list.append(json_data)\n",
    "\n",
    "    return json_data_list\n"
   ]
  },
  {
   "cell_type": "code",
   "execution_count": 3,
   "metadata": {},
   "outputs": [],
   "source": [
    "# table_file = '../dbgpt_hub/data/CSpider/tables.json'\n",
    "# tables = json.load(open(table_file))\n",
    "# # pd.DataFrame(tables)\n",
    "# list(tables[0].keys())"
   ]
  },
  {
   "cell_type": "code",
   "execution_count": 4,
   "metadata": {},
   "outputs": [],
   "source": [
    "# tables[0]['column_names_original'], tables[0]['table_names_original']"
   ]
  },
  {
   "cell_type": "markdown",
   "metadata": {},
   "source": [
    "## chatgpt"
   ]
  },
  {
   "cell_type": "code",
   "execution_count": 5,
   "metadata": {},
   "outputs": [],
   "source": [
    "# prompt = '帮我翻译成中文,只保留翻译内容,格式为list不变,不要省略,号:\\n{}'\n",
    "# x = tables[0]#['column_names_original']\n",
    "# res = safe_call_llm(prompt.format(x['column_names_original']))\n",
    "# # print(x)"
   ]
  },
  {
   "cell_type": "code",
   "execution_count": 6,
   "metadata": {},
   "outputs": [
    {
     "data": {
      "text/plain": [
       "166"
      ]
     },
     "execution_count": 6,
     "metadata": {},
     "output_type": "execute_result"
    }
   ],
   "source": [
    "tables = read_multiline_json('../dbgpt_hub/data/CSpider/gpt_tmp/tables_cn_gpt_new_revised.json')\n",
    "len(tables)"
   ]
  },
  {
   "cell_type": "code",
   "execution_count": 20,
   "metadata": {},
   "outputs": [],
   "source": [
    "import re\n",
    "def contains_chinese(text):\n",
    "    # 正则表达式匹配中文字符的范围\n",
    "    chinese_regex = re.compile(r'[\\u4e00-\\u9fff]')\n",
    "    return bool(chinese_regex.search(text))\n",
    "\n",
    "def list_contains_no_chinese(lst):\n",
    "    # 遍历列表中的每一个元素，检查是否包含中文字符\n",
    "    for item in lst:\n",
    "        if isinstance(item, str) and contains_chinese(item):\n",
    "            return False\n",
    "    return True\n"
   ]
  },
  {
   "cell_type": "code",
   "execution_count": 305,
   "metadata": {},
   "outputs": [
    {
     "data": {
      "text/plain": [
       "[[146, 0]]"
      ]
     },
     "execution_count": 305,
     "metadata": {},
     "output_type": "execute_result"
    }
   ],
   "source": [
    "error_list = []\n",
    "for j, item in enumerate(tables):\n",
    "    table = item[\"table_names_original\"]\n",
    "    coloumns = item[\"column_names_original\"][1:]\n",
    "    coloumns_cn = item[\"cn_column_names_original\"][1:]\n",
    "    primary_key = item[\"primary_keys\"]\n",
    "    foreign_keys = item[\"foreign_keys\"]\n",
    "    # if item['db_id'] == 'department_management':\n",
    "    #     break\n",
    "    for i, name in enumerate(table):\n",
    "        data = [coloumn[1] for coloumn in coloumns if coloumn[0] == i]\n",
    "        data_cn = [coloumn[1] for coloumn in coloumns_cn if int(coloumn[0]) == i]\n",
    "        if (len(data) != len(data_cn)) | (list_contains_no_chinese(data_cn)): # \"数据表和数据列的中文名称数量不一致\"\n",
    "            error_list.append([j, i])\n",
    "            # aaa\n",
    "k = error_list[0][0]\n",
    "# tables[k]['cn_column_names_original'][:4], k, len(error_list)\n",
    "# error_list[0]\n",
    "error_list"
   ]
  },
  {
   "cell_type": "code",
   "execution_count": 296,
   "metadata": {},
   "outputs": [],
   "source": [
    "# data"
   ]
  },
  {
   "cell_type": "code",
   "execution_count": 297,
   "metadata": {},
   "outputs": [
    {
     "name": "stdout",
     "output_type": "stream",
     "text": [
      "国家ID CountryId\n",
      "国家编号 CountryName\n",
      "国家名称 Continent\n"
     ]
    }
   ],
   "source": [
    "for a,b in zip(data_cn,data):\n",
    "    print(a,b)"
   ]
  },
  {
   "cell_type": "code",
   "execution_count": 302,
   "metadata": {},
   "outputs": [
    {
     "data": {
      "text/plain": [
       "(4, 4)"
      ]
     },
     "execution_count": 302,
     "metadata": {},
     "output_type": "execute_result"
    }
   ],
   "source": [
    "len(data),len(data_cn)"
   ]
  },
  {
   "cell_type": "code",
   "execution_count": 303,
   "metadata": {},
   "outputs": [
    {
     "data": {
      "text/plain": [
       "[[-1, '*'],\n",
       " [0, 'f1'],\n",
       " [0, 'f2'],\n",
       " [1, 'id'],\n",
       " [1, 'uid'],\n",
       " [1, 'text'],\n",
       " [1, 'createdate'],\n",
       " [2, 'uid'],\n",
       " [2, 'name'],\n",
       " [2, 'email'],\n",
       " [2, 'partitionid'],\n",
       " [2, 'followers']]"
      ]
     },
     "execution_count": 303,
     "metadata": {},
     "output_type": "execute_result"
    }
   ],
   "source": [
    "tables[k]['column_names_original']\n",
    "# data_cn,data"
   ]
  },
  {
   "cell_type": "code",
   "execution_count": 304,
   "metadata": {},
   "outputs": [
    {
     "data": {
      "text/plain": [
       "[[-1, '星号'],\n",
       " [0, 'f1'],\n",
       " [0, 'f2'],\n",
       " [1, 'id'],\n",
       " [1, 'uid'],\n",
       " [1, '文本'],\n",
       " [1, '创建日期'],\n",
       " [2, 'uid'],\n",
       " [2, '名称'],\n",
       " [2, '电子邮件'],\n",
       " [2, '分区id'],\n",
       " [2, '关注者']]"
      ]
     },
     "execution_count": 304,
     "metadata": {},
     "output_type": "execute_result"
    }
   ],
   "source": [
    "tables[k]['cn_column_names_original']"
   ]
  },
  {
   "cell_type": "code",
   "execution_count": 306,
   "metadata": {},
   "outputs": [],
   "source": [
    "# a = [[-1, '*'],\n",
    "#  [0, 'ContId'],\n",
    "#  [0, '大陆'],\n",
    "#  [1, '国家编号'],\n",
    "#  [1, '国家名称'],\n",
    "#  [1, '大陆'],\n",
    "#  [2, 'Id'],\n",
    "#  [2, '制造商编号'],\n",
    "#  [2, '全名'],\n",
    "#  [2, '国家'],\n",
    "#  [3, 'ModelId'],\n",
    "#  [3, '制造商'],\n",
    "#  [3, '型号'],\n",
    "#  [4, 'MakeId'],\n",
    "#  [4, '型号'],\n",
    "#  [4, '制造商'],\n",
    "#  [5, 'Id'],\n",
    "#  [5, '每加仑英里数'],\n",
    "#  [5, '气缸数'],\n",
    "#  [5, '排量'],\n",
    "#  [5, '马力'],\n",
    "#  [5, '重量'],\n",
    "#  [5, '加速'],\n",
    "#  [5, '年份']]\n",
    "# tables[k]['cn_column_names_original'] = a"
   ]
  },
  {
   "cell_type": "code",
   "execution_count": 307,
   "metadata": {},
   "outputs": [],
   "source": [
    "with open('../dbgpt_hub/data/CSpider/gpt_tmp/tables_cn_gpt_new_revised.json', 'w') as f:\n",
    "    f.write(\"\\n\".join([json.dumps(i, ensure_ascii=False) for i in tables]))\n",
    "\n",
    "with open('../dbgpt_hub/data/CSpider/tables_cn.json', 'w') as f:\n",
    "    json.dump(tables, f, ensure_ascii=False, indent=4)"
   ]
  },
  {
   "cell_type": "code",
   "execution_count": 118,
   "metadata": {},
   "outputs": [],
   "source": [
    "="
   ]
  },
  {
   "cell_type": "code",
   "execution_count": 116,
   "metadata": {},
   "outputs": [
    {
     "data": {
      "text/plain": [
       "[]"
      ]
     },
     "execution_count": 116,
     "metadata": {},
     "output_type": "execute_result"
    }
   ],
   "source": [
    "error_list"
   ]
  },
  {
   "cell_type": "code",
   "execution_count": 104,
   "metadata": {},
   "outputs": [],
   "source": [
    "# for i,x in enumerate(data):\n",
    "#     tmp = eval(x['cn_column_names_original'])\n",
    "#     tmp = []\n",
    "#     x['cn_column_names_original'] = tmp\n",
    "#     x['cn_table_names_original'] = eval(x['cn_table_names_original'])\n"
   ]
  },
  {
   "cell_type": "code",
   "execution_count": 105,
   "metadata": {},
   "outputs": [
    {
     "data": {
      "text/plain": [
       "[[-1, '*'],\n",
       " [0, '服务_ID'],\n",
       " [0, '服务类型_代码'],\n",
       " [1, '参与者_ID'],\n",
       " [1, '参与者类型_代码'],\n",
       " [1, '参与者详情'],\n",
       " [2, '事件_ID'],\n",
       " [2, '服务_ID'],\n",
       " [2, '事件详情'],\n",
       " [3, '事件_ID'],\n",
       " [3, '参与者_ID']]"
      ]
     },
     "execution_count": 105,
     "metadata": {},
     "output_type": "execute_result"
    }
   ],
   "source": [
    "data[30]['cn_column_names_original']"
   ]
  },
  {
   "cell_type": "code",
   "execution_count": 135,
   "metadata": {},
   "outputs": [
    {
     "data": {
      "text/plain": [
       "755"
      ]
     },
     "execution_count": 135,
     "metadata": {},
     "output_type": "execute_result"
    }
   ],
   "source": [
    "INSTRUCTION_ONE_SHOT_PROMPT_CN = \"\"\"\\\n",
    "我希望你充当示例数据库的SQL终端。你只需要返回 SQL 命令给我。首先，我会向你展示一些指令及其正确的 SQL 响应示例。然后，我会给你一个新指令，你需要编写一个适当完成请求的 SQL 响应。\n",
    "### 示例1 Instruction:\n",
    "该数据库包含名为 employee、salary 和 position 的表。\\\n",
    "表 employee 包含包含的数据列如下:\n",
    "employee_id [员工ID]\n",
    "name [姓名]\n",
    "age [年龄]\n",
    "position_id [职位ID]\n",
    "employee_id 是主键。\n",
    "表 salary 包含包含的数据列如下:\n",
    "employee_id [员工ID]\n",
    "amount [金额]\n",
    "date [日期]\n",
    "employee_id 是主键。\n",
    "表 position 包含包含的数据列如下: \n",
    "position_id [职位ID]\n",
    "title [标题]\n",
    "department [部门]\n",
    "position_id 是主键。\n",
    "salary 表中的 employee_id 是 employee 表中 employee_id 的外键。\\\n",
    "employee 表中的 position_id 是 position 表中 position_id 的外键。\\\n",
    "\\n### 示例1 Input:\\n列出'Engineering'部门员工的姓名和年龄。\\n\\\n",
    "\\n### 示例1 Response:\\nSELECT employee.name, employee.age FROM employee JOIN position ON employee.position_id = position.position_id WHERE position.department = 'Engineering';\\\n",
    "\\n###新指令：\\n{}\\n\"\"\"\n",
    "\n",
    "# print(INSTRUCTION_ONE_SHOT_PROMPT_CN)\n",
    "len(INSTRUCTION_ONE_SHOT_PROMPT_CN)"
   ]
  },
  {
   "cell_type": "code",
   "execution_count": null,
   "metadata": {},
   "outputs": [],
   "source": []
  }
 ],
 "metadata": {
  "kernelspec": {
   "display_name": "lx",
   "language": "python",
   "name": "python3"
  },
  "language_info": {
   "codemirror_mode": {
    "name": "ipython",
    "version": 3
   },
   "file_extension": ".py",
   "mimetype": "text/x-python",
   "name": "python",
   "nbconvert_exporter": "python",
   "pygments_lexer": "ipython3",
   "version": "3.9.12"
  }
 },
 "nbformat": 4,
 "nbformat_minor": 2
}
